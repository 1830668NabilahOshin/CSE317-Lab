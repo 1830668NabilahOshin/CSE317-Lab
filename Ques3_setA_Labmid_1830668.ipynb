{
  "nbformat": 4,
  "nbformat_minor": 0,
  "metadata": {
    "colab": {
      "provenance": [],
      "authorship_tag": "ABX9TyPik3WK/ljVug2kcEafFO1q",
      "include_colab_link": true
    },
    "kernelspec": {
      "name": "python3",
      "display_name": "Python 3"
    },
    "language_info": {
      "name": "python"
    }
  },
  "cells": [
    {
      "cell_type": "markdown",
      "metadata": {
        "id": "view-in-github",
        "colab_type": "text"
      },
      "source": [
        "<a href=\"https://colab.research.google.com/github/1830668NabilahOshin/CSE317-Lab/blob/main/Ques3_setA_Labmid_1830668.ipynb\" target=\"_parent\"><img src=\"https://colab.research.google.com/assets/colab-badge.svg\" alt=\"Open In Colab\"/></a>"
      ]
    },
    {
      "cell_type": "code",
      "execution_count": null,
      "metadata": {
        "colab": {
          "base_uri": "https://localhost:8080/",
          "height": 345
        },
        "id": "hS3cLn3p7PXG",
        "outputId": "55e8ede7-2730-456a-af3c-9494b6559c7a"
      },
      "outputs": [
        {
          "output_type": "stream",
          "name": "stdout",
          "text": [
            "[ 2.7501200e+05  4.7121800e+04  2.1999200e+04  6.9740000e+02\n",
            "  2.0000000e+00 -2.2748000e+03 -7.1530000e+03 -7.8641200e+04\n",
            " -1.4299180e+05 -3.9514000e+05 -2.6204780e+06 -8.0617180e+06\n",
            " -2.4760523e+07 -6.1874428e+07]\n"
          ]
        },
        {
          "output_type": "display_data",
          "data": {
            "text/plain": [
              "<Figure size 432x288 with 1 Axes>"
            ],
            "image/png": "[encoded data removed]"
          },
          "metadata": {
            "needs_background": "light"
          }
        }
      ],
      "source": [
        "import numpy as np\n",
        "import pandas as pd\n",
        "import matplotlib.pyplot as plt\n",
        "\n",
        "t = np.array([-10,-7,-6,-3,0,4,5,8,9,11,16,20,25,30])\n",
        "pt = np.array([5,7,8,9,12,13,16,20,33,32,20,6,22,66])\n",
        "c0=2\n",
        "c1=4\n",
        "c2=-4.5\n",
        "c3=0.5\n",
        "c4=1.6\n",
        "c5=-2.6\n",
        "\n",
        "pt_hat= np.zeros(t.size)\n",
        "for i in range(t.size):\n",
        "    pt_hat[i]= c0+(c1*t[i])+(c2*(t[i]**(2)))+(c3*(t[i]**(3)))+(c4*(t[i]**(4)))+(c5*(t[i]**(5)))\n",
        "\n",
        "print(pt_hat)\n",
        "\n",
        "plt.scatter(t, pt)\n",
        "plt.plot(t,pt)\n",
        "\n",
        "plt.plot(t,pt_hat, 'o')\n",
        "plt.show()"
      ]
    }
  ]
}