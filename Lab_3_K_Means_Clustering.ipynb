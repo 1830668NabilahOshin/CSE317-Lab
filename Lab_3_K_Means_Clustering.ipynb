{
  "nbformat": 4,
  "nbformat_minor": 0,
  "metadata": {
    "colab": {
      "name": "Lab 3: K Means Clustering.ipynb",
      "provenance": [],
      "collapsed_sections": [],
      "authorship_tag": "ABX9TyM7wdMQEHUq+KXVo6OmBjgc",
      "include_colab_link": true
    },
    "kernelspec": {
      "name": "python3",
      "display_name": "Python 3"
    },
    "language_info": {
      "name": "python"
    }
  },
  "cells": [
    {
      "cell_type": "markdown",
      "metadata": {
        "id": "view-in-github",
        "colab_type": "text"
      },
      "source": [
        "<a href=\"https://colab.research.google.com/github/mirsazzathossain/CSE317-Lab/blob/main/Lab_3_K_Means_Clustering.ipynb\" target=\"_parent\"><img src=\"https://colab.research.google.com/assets/colab-badge.svg\" alt=\"Open In Colab\"/></a>"
      ]
    },
    {
      "cell_type": "markdown",
      "metadata": {
        "id": "JC_tqqOckY4C"
      },
      "source": [
        "#### **1. Import necessary packages:**"
      ]
    },
    {
      "cell_type": "code",
      "metadata": {
        "id": "gQkyWDVyjdYU"
      },
      "source": [
        "# Write appropriate code"
      ],
      "execution_count": 1,
      "outputs": []
    },
    {
      "cell_type": "markdown",
      "metadata": {
        "id": "3kUoQAB4kqU7"
      },
      "source": [
        "#### **2. Upload and load dataset:**\n",
        "At first we have to upload the dataset to google colab to start working with it. Please download the **\"bookprice.csv\"** dataset from piazza resourse or [click here](https://piazza.com/class_profile/get_resource/ku1fdd7zhev3r2/ku7c2kiquo514q) to download it. Then click on files form sidebar, drag and drop your file to side bar to upload the dataset.\n",
        "\n",
        "Now, use `data = pd.read_csv(\"bookprice.csv\")` to load the data."
      ]
    },
    {
      "cell_type": "code",
      "metadata": {
        "id": "xsG8LjSjkxsZ"
      },
      "source": [
        "# Write appropriate code"
      ],
      "execution_count": 2,
      "outputs": []
    },
    {
      "cell_type": "markdown",
      "metadata": {
        "id": "KLNnfdjelYql"
      },
      "source": [
        "#### **3. Get the size of X.:**\n",
        "Get the size of X using `np.shape(X)`. This will return a tuple consists of number of rows and columns of X. Save these into two varible named `row` and `col`."
      ]
    },
    {
      "cell_type": "code",
      "metadata": {
        "id": "Aq6-QgAalmiP"
      },
      "source": [
        "# Write appropriate code"
      ],
      "execution_count": 3,
      "outputs": []
    },
    {
      "cell_type": "markdown",
      "metadata": {
        "id": "veP-LGHll7UR"
      },
      "source": [
        "#### **4. Plot 2D data. X-axis show page, Y-Axis shows price**\n",
        "Draw a scatter plot using `plt.scatter()`. Keep page in x-axis and price in y-axis. Show xlabel and ylabel using `plt.xlabel('Page')` and `plt.ylabel('Price')`. Put limit of the axis using `plt.xlim(150, 600)` and `plt.ylim(50, 160)`"
      ]
    },
    {
      "cell_type": "code",
      "metadata": {
        "id": "RAZUYo03l_gS"
      },
      "source": [
        "# Write appropriate code"
      ],
      "execution_count": 4,
      "outputs": []
    },
    {
      "cell_type": "markdown",
      "metadata": {
        "id": "cfhzNQvqJyTu"
      },
      "source": [
        "#### **5. Decide number of groups:**\n",
        "Let's take number of group `k = 3`"
      ]
    },
    {
      "cell_type": "code",
      "metadata": {
        "id": "J1_zDJigJxiE"
      },
      "source": [
        "# Write appropriate code"
      ],
      "execution_count": 5,
      "outputs": []
    },
    {
      "cell_type": "markdown",
      "metadata": {
        "id": "V6j-lTK9KQlA"
      },
      "source": [
        "#### **6. Take a initial zero matrix called centroids:**\n",
        "For three group we need three initial centroid. Initially we will take the origin (0, 0) as centroid. Use `np.zeros()` to generate the centroid matrix. \n",
        "\n",
        "**Note:** The size of the centroid matrix will be (k, col)"
      ]
    },
    {
      "cell_type": "code",
      "metadata": {
        "id": "H_A3-vL8L81i"
      },
      "source": [
        "# Write appropriate code"
      ],
      "execution_count": 6,
      "outputs": []
    },
    {
      "cell_type": "markdown",
      "metadata": {
        "id": "VNmMrA87OB5T"
      },
      "source": [
        "#### **7. Generate random indices ranges from 1 to number of rows of X:**\n",
        "Use `np.random.permutation(row)` to generate random indices and store in randidx."
      ]
    },
    {
      "cell_type": "code",
      "metadata": {
        "id": "cX65xl43O7uC"
      },
      "source": [
        "# Write appropriate code"
      ],
      "execution_count": 7,
      "outputs": []
    },
    {
      "cell_type": "markdown",
      "metadata": {
        "id": "Tm7TwqRBQEdW"
      },
      "source": [
        "#### **8. Copy the data from first k (random) indices from X:**\n",
        "Use first k indices from randomly generated indices to get the data from X and make these data as new centroids."
      ]
    },
    {
      "cell_type": "code",
      "metadata": {
        "id": "6IwCZXh-RG-Y"
      },
      "source": [
        "# Write appropriate code"
      ],
      "execution_count": 8,
      "outputs": []
    },
    {
      "cell_type": "markdown",
      "metadata": {
        "id": "zwTXKAjpSG74"
      },
      "source": [
        "#### **9. Create empty array named group:**\n",
        "Create a empty array named group to keep the points that corresponds to each group."
      ]
    },
    {
      "cell_type": "code",
      "metadata": {
        "id": "CXUcz15CTVgO"
      },
      "source": [
        "# Write appropriate code"
      ],
      "execution_count": 9,
      "outputs": []
    },
    {
      "cell_type": "markdown",
      "metadata": {
        "id": "R_Hyr6Z8o3Ma"
      },
      "source": [
        "#### **10. Calculate distance of each point from each centroid and assign the point to a specific centroid which is closest to the point:**\n",
        "Now calculate distances of $i^{th}$ point $(X(i,:))$ from centroids(1, :), then centroids(2,:), and then centroids(3,:)\n",
        "\n",
        "\n",
        "1.   Find out which centroid is the closest to the point $X(i,:)$\n",
        "2.   Save the centroid no in specific index of group.\n",
        "3.   Calculate the average of each group that will be new centroid.\n",
        "4.   Calculate distance between the old and new centroid.\n",
        "5.   Keep repeating the process until the distance is zero for all three centroid.\n",
        "\n"
      ]
    },
    {
      "cell_type": "code",
      "metadata": {
        "id": "7r2PvCSDWaoy"
      },
      "source": [
        "# Write appropriate code"
      ],
      "execution_count": 10,
      "outputs": []
    },
    {
      "cell_type": "markdown",
      "metadata": {
        "id": "AGXCsEihtJKK"
      },
      "source": [
        "#### **11. Plot the centroids with different marker. Say ‘d’ for diamond:**"
      ]
    },
    {
      "cell_type": "code",
      "metadata": {
        "id": "RxQd6xTUnTpx"
      },
      "source": [
        "# Write appropriate code"
      ],
      "execution_count": 11,
      "outputs": []
    }
  ]
}