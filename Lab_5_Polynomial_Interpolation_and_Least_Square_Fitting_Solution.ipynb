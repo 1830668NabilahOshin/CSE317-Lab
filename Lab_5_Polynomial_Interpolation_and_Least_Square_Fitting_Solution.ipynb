{
  "nbformat": 4,
  "nbformat_minor": 0,
  "metadata": {
    "colab": {
      "name": "Lab 5: Polynomial Interpolation and Least-Square Fitting Solution.ipynb",
      "provenance": [],
      "collapsed_sections": [],
      "authorship_tag": "ABX9TyP7QDbdaVRJpFaghyihYEWj",
      "include_colab_link": true
    },
    "kernelspec": {
      "name": "python3",
      "display_name": "Python 3"
    },
    "language_info": {
      "name": "python"
    }
  },
  "cells": [
    {
      "cell_type": "markdown",
      "metadata": {
        "id": "view-in-github",
        "colab_type": "text"
      },
      "source": [
        "<a href=\"https://colab.research.google.com/github/mirsazzathossain/CSE317-Lab/blob/main/Lab_5_Polynomial_Interpolation_and_Least_Square_Fitting_Solution.ipynb\" target=\"_parent\"><img src=\"https://colab.research.google.com/assets/colab-badge.svg\" alt=\"Open In Colab\"/></a>"
      ]
    },
    {
      "cell_type": "markdown",
      "metadata": {
        "id": "x6y3Y_sXIvrI"
      },
      "source": [
        "In this assignment, we will examine polynomial interpolation and least square fitting of polynomials to a set of points.\n",
        "\n",
        "Input: Suppose we have n points: $(t_1, y_1), (t_2, y_2), \\ldots , (t_n, y_n)$."
      ]
    },
    {
      "cell_type": "markdown",
      "metadata": {
        "id": "WfC8i8aEK6z-"
      },
      "source": [
        "#### **Import necessary packages:**"
      ]
    },
    {
      "cell_type": "code",
      "metadata": {
        "id": "Ojnxg81EF32Q"
      },
      "source": [
        "import numpy as np\n",
        "import matplotlib.pyplot as plt"
      ],
      "execution_count": 1,
      "outputs": []
    },
    {
      "cell_type": "markdown",
      "metadata": {
        "id": "R8Kmg1EZLK6H"
      },
      "source": [
        "#### **A. Polynomial Interpolation:**\n",
        "First, we would like to fit a polynomial of degree n-1 to the set of points, i.e. we will fit a polynomial:\n",
        "\n",
        "$$p(t) = c_0 + c_1t + \\cdots + c_{n−1}t^{n−1}$$\n",
        "\n",
        "So that it goes through all the n points. Our task is to find the coefficient $c_0, c_1, \\ldots , c_{n-1}$.\n",
        "\n",
        "In this assignment $n=7$, we will fit a $6$-degree polynomial. The $7$ points are as follows:\n",
        "\n",
        "$$(1, 4), (3, 7), (4, 2), (7, 2), (10, 5), (12, 10), (15, 4)$$"
      ]
    },
    {
      "cell_type": "markdown",
      "metadata": {
        "id": "ACTInRcTM8xn"
      },
      "source": [
        "##### **Step 1: Set up the system of linear equations**\n",
        "We can set up the system of equations $Ac=y$ to represent the n given conditions $p(t_i)=y_i$ that the polynomial must satisfy. Here, $c$ is the vector of coefficients and $y$ is the vectors of the $y_i$’s.  The matrix $A$ is called the Vandermonde matrix which represents the coefficients of the $n$ linear equations (linear in terms of the $c_i$’s).\n",
        "\n",
        "☢ Long story huh..? 🤯 Let's go step by step. 🔽\n",
        "\n",
        "⚡ From the given data point create two numpy array $t$ and $y$\n",
        "\n",
        "⚡ Using $t$ create the vendermonde matrix. (How 🤔? You have go through your lecture first.)\n",
        "\n",
        "**Hint: You can use `np.vander()` to create $A$. Saw the `numpy` documentation for more details.\n",
        " \n",
        "That's all you have to do for this step. 👻\n"
      ]
    },
    {
      "cell_type": "code",
      "metadata": {
        "colab": {
          "base_uri": "https://localhost:8080/"
        },
        "id": "1HMxL3HkM8QJ",
        "outputId": "91ea0711-db16-4474-c6aa-338208ca3ba8"
      },
      "source": [
        "t = np.array([1, 3, 4, 7, 10, 12, 15])\n",
        "y = np.array([4, 7, 2, 2, 5, 10, 4])\n",
        "\n",
        "A = np.vander(t, increasing=True)\n",
        "print(A)"
      ],
      "execution_count": 2,
      "outputs": [
        {
          "output_type": "stream",
          "name": "stdout",
          "text": [
            "[[       1        1        1        1        1        1        1]\n",
            " [       1        3        9       27       81      243      729]\n",
            " [       1        4       16       64      256     1024     4096]\n",
            " [       1        7       49      343     2401    16807   117649]\n",
            " [       1       10      100     1000    10000   100000  1000000]\n",
            " [       1       12      144     1728    20736   248832  2985984]\n",
            " [       1       15      225     3375    50625   759375 11390625]]\n"
          ]
        }
      ]
    },
    {
      "cell_type": "markdown",
      "metadata": {
        "id": "GiWu4DMUW68F"
      },
      "source": [
        "##### **Step 2: Find the coefficient vector $c$**\n",
        "Since the Vandermonde matrix is invertible if $t_i ≠ t_j$, for $i ≠ j$ (see slide on inverses), we can simply find $c$ using `c = np.linalg.inv(A).dot(y)`. Of course, you can use the QR-decomposition of $A$ to find the inverse if you want.😜"
      ]
    },
    {
      "cell_type": "code",
      "metadata": {
        "colab": {
          "base_uri": "https://localhost:8080/"
        },
        "id": "8vFh403niA6b",
        "outputId": "2f8900e5-cccd-4e1a-e6d6-74a2c3cfb1ad"
      },
      "source": [
        "c = np.linalg.inv(A).dot(y)\n",
        "print(c)"
      ],
      "execution_count": 3,
      "outputs": [
        {
          "output_type": "stream",
          "name": "stdout",
          "text": [
            "[-3.37575758e+01  6.28880231e+01 -3.12842232e+01  6.86690316e+00\n",
            " -7.52765753e-01  4.04882155e-02 -8.49767516e-04]\n"
          ]
        }
      ]
    },
    {
      "cell_type": "markdown",
      "metadata": {
        "id": "FBBV-BMolADh"
      },
      "source": [
        "##### **Step 3: Plot the points and the polynomial**\n",
        "⚡ Plot the given n points\n",
        "\n",
        "⚡ Calculate the value of $p$ for given $t$ using coefficient vector $c$\n",
        "\n",
        "⚡ Plot the polynomial"
      ]
    },
    {
      "cell_type": "code",
      "metadata": {
        "colab": {
          "base_uri": "https://localhost:8080/",
          "height": 282
        },
        "id": "kwiBDsWHZcf7",
        "outputId": "4b7bfee6-a915-421d-db0b-a60c9b3cc0af"
      },
      "source": [
        "p = A.dot(c)\n",
        "print('Predicted points: ', p)\n",
        "\n",
        "plt.scatter(t, y, marker='o')\n",
        "plt.plot(t, p, 'r')\n",
        "plt.show()"
      ],
      "execution_count": 4,
      "outputs": [
        {
          "output_type": "stream",
          "name": "stdout",
          "text": [
            "Predicted points:  [ 4.  7.  2.  2.  5. 10.  4.]\n"
          ]
        },
        {
          "output_type": "display_data",
          "data": {
            "image/png": "[encoded data removed]",
            "text/plain": [
              "<Figure size 432x288 with 1 Axes>"
            ]
          },
          "metadata": {
            "needs_background": "light"
          }
        }
      ]
    },
    {
      "cell_type": "markdown",
      "metadata": {
        "id": "l-bN9edTmhnk"
      },
      "source": [
        "#### **B. Polynomial interpolation using two cubic polynomials:**\n",
        "In this part, you we will fit the following two cubic polynomials $p(t)$ and $q(t)$ to the n points:\n",
        "\n",
        "$$p(t) = c_0 + c_1 t + c_2 t^2 + c_3 t^3, q(t) = d_0 + d_1t + d_2 t^2 + d_3 t^3$$\n",
        "\n",
        "that satisfies the following conditions:\n",
        "\n",
        "$$p(1) = 4$$ \n",
        "$$p(3) = 7$$ \n",
        "$$p(4) =2$$\n",
        "$$q(10) = 5$$ \n",
        "$$q(12) = 10$$ \n",
        "$$p(15) = 4$$\n",
        "$$p(7) = q(7)$$ \n",
        "$$ p’(7) = q’(7)$$\n",
        "\n",
        "**Note: $p’(7)$ and $q'(7)$ are the derivatives of $p(t)$ and $q(t)$ at $t = 7$ respectively"
      ]
    },
    {
      "cell_type": "markdown",
      "metadata": {
        "id": "-aKzQaA4oNko"
      },
      "source": [
        "##### **Step 1: Set up the system of linear equations**\n",
        "We can set up the system of equations $Ax=b$ to represent the given conditions that the polynomials must satisfy. Here, $x$ is the vector of coefficients:   \n",
        "\n",
        "$$x=[c_0, c_1, c_2, c_3, d_0, d_1, d_2, d_3]$$\n",
        "\n",
        "The matrix $A$ is called the Vandermonde matrix.\n",
        "\n",
        "💥 Stucked again? Need hints?😲 Here you go: 🔽\n",
        "\n",
        "⚡ From given conditions create three numpy array $p_t, q_t$ and $b$\n",
        "\n",
        "⚡ Using $p_t, q_t$ and the conditions make the Vendermonde matrix $A$ (This is the tricky part. 👊)\n",
        "\n",
        "**Hint: You can use `np.column_stack((..,..))` and `np.row_stack((..,..))` to creat matrix $A$. Saw the `numpy` documentation for more details."
      ]
    },
    {
      "cell_type": "code",
      "metadata": {
        "colab": {
          "base_uri": "https://localhost:8080/"
        },
        "id": "HiIRWwNdsqPJ",
        "outputId": "3fe29cf6-624b-43d9-88f7-032dcfb63a7f"
      },
      "source": [
        "p_t = np.array([1, 3, 4, 15])\n",
        "q_t = np.array([10, 12])\n",
        "b = np.array([4, 7, 2, 4, 5, 10, 0, 0])\n",
        "\n",
        "A = np.column_stack((p_t**0, p_t**1, p_t**2, p_t**3, np.zeros((4,4), dtype=int)))\n",
        "A = np.row_stack((A, np.column_stack((np.zeros((2, 4), dtype=int), q_t**0, q_t**1, q_t**2, q_t**3))))\n",
        "A = np.row_stack((A, np.column_stack(([1, 7, 7**2, 7**3, -1, -7, -7**2, -7**3]))))\n",
        "A = np.row_stack((A, np.column_stack(([0, 7, 2*7, 3*7**2, 0, -1, -2*7, -3*7**2]))))\n",
        "\n",
        "print(A)"
      ],
      "execution_count": 5,
      "outputs": [
        {
          "output_type": "stream",
          "name": "stdout",
          "text": [
            "[[   1    1    1    1    0    0    0    0]\n",
            " [   1    3    9   27    0    0    0    0]\n",
            " [   1    4   16   64    0    0    0    0]\n",
            " [   1   15  225 3375    0    0    0    0]\n",
            " [   0    0    0    0    1   10  100 1000]\n",
            " [   0    0    0    0    1   12  144 1728]\n",
            " [   1    7   49  343   -1   -7  -49 -343]\n",
            " [   0    7   14  147    0   -1  -14 -147]]\n"
          ]
        }
      ]
    },
    {
      "cell_type": "markdown",
      "metadata": {
        "id": "1YaDg4VNz-4S"
      },
      "source": [
        "##### **Step 2: Find the coefficient vector $x$**\n",
        "You have to find the coefficient vector $x$. This time find your way around, no hints from this side.🚸"
      ]
    },
    {
      "cell_type": "code",
      "metadata": {
        "colab": {
          "base_uri": "https://localhost:8080/"
        },
        "id": "31XyiFCGv2BW",
        "outputId": "32eb25fb-6f8c-4cc5-8aae-2a1e57877d43"
      },
      "source": [
        "x = np.linalg.inv(A).dot(b)\n",
        "print(x)"
      ],
      "execution_count": 6,
      "outputs": [
        {
          "output_type": "stream",
          "name": "stdout",
          "text": [
            "[-6.22727273e+00  1.36931818e+01 -3.65151515e+00  1.85606061e-01\n",
            " -3.40693333e+03  1.08084384e+03 -1.12082222e+02  3.81171717e+00]\n"
          ]
        }
      ]
    },
    {
      "cell_type": "markdown",
      "metadata": {
        "id": "sQiek0aC2j0o"
      },
      "source": [
        "##### **Step 3: Plot the points and the polynomials**\n",
        "⚡ Plot the given points given in condition\n",
        "\n",
        "⚡ Plot the polynomials"
      ]
    },
    {
      "cell_type": "code",
      "metadata": {
        "colab": {
          "base_uri": "https://localhost:8080/",
          "height": 265
        },
        "id": "RwDTzuzi2x6l",
        "outputId": "d566d870-5c63-405a-f7fd-6faf1da8a77c"
      },
      "source": [
        "plt.scatter(p_t, b[:4])\n",
        "plt.scatter(q_t, b[4:6])\n",
        "\n",
        "p_t = np.concatenate((p_t, [7]))\n",
        "p = x[0] + x[1]*p_t + x[2]*p_t**2 + x[3]*p_t**3\n",
        "\n",
        "q_t = np.concatenate((q_t, [7]))\n",
        "q = x[4] + x[5]*q_t + x[6]*q_t**2 + x[7]*q_t**3\n",
        "\n",
        "plt.plot(p_t, p)\n",
        "plt.plot(q_t, q)\n",
        "\n",
        "plt.show()"
      ],
      "execution_count": 7,
      "outputs": [
        {
          "output_type": "display_data",
          "data": {
            "image/png": "[encoded data removed]",
            "text/plain": [
              "<Figure size 432x288 with 1 Axes>"
            ]
          },
          "metadata": {
            "needs_background": "light"
          }
        }
      ]
    },
    {
      "cell_type": "markdown",
      "metadata": {
        "id": "LMi0Vfbb7UFl"
      },
      "source": [
        "#### **C. Least-square polynomial fitting:**\n",
        "Now we will fit a quadratic polynomial $p(t) = c_0 + c_1 t + c_2 t^2$ , to the $n = 7$ points. Of course, we do not require here that all the conditions will be satisfied. We wish to find a polynomial that minimized the sum of squared errors at each $t_i$."
      ]
    },
    {
      "cell_type": "markdown",
      "metadata": {
        "id": "ndg-B4T97uKe"
      },
      "source": [
        "##### **Step 1: Set up the system of linear equations**\n",
        "Set up a system of equations $Ac = y$ that corresponds to the points. $Ac = y$, is unlikely to have a solution and so we aim to find $c$, that minimizes $∥ Ac − y ∥^2$."
      ]
    },
    {
      "cell_type": "code",
      "metadata": {
        "colab": {
          "base_uri": "https://localhost:8080/"
        },
        "id": "UpKzGv1Q8dxl",
        "outputId": "474e909e-ba88-47e2-9436-00cc2ad7b6eb"
      },
      "source": [
        "t = np.array([1, 3, 4, 7, 10, 12, 15])\n",
        "y = np.array([4, 7, 2, 2, 5, 10, 4])\n",
        "\n",
        "A = np.column_stack((t**0, t**1, t**2))\n",
        "print(A)"
      ],
      "execution_count": 8,
      "outputs": [
        {
          "output_type": "stream",
          "name": "stdout",
          "text": [
            "[[  1   1   1]\n",
            " [  1   3   9]\n",
            " [  1   4  16]\n",
            " [  1   7  49]\n",
            " [  1  10 100]\n",
            " [  1  12 144]\n",
            " [  1  15 225]]\n"
          ]
        }
      ]
    },
    {
      "cell_type": "markdown",
      "metadata": {
        "id": "qdqcd-Kx9l7u"
      },
      "source": [
        "##### **Step 2: Find the coefficient vector $c$**\n",
        "We find $c$ using $c = A^† y = (A^T A)^{−1} A^T y = R^{−1} Q^T y$, where $A = QR $ is the QR-decomposition of the matrix $A$. Numpy function `np.linalg.pinv(A)` gives you the pseudo-inverse $A^†$"
      ]
    },
    {
      "cell_type": "code",
      "metadata": {
        "colab": {
          "base_uri": "https://localhost:8080/"
        },
        "id": "Wg6ZFu9j-UTn",
        "outputId": "eceba1aa-a77d-4246-98b3-b4d0754f4f2e"
      },
      "source": [
        "c = np.linalg.pinv(A).dot(y)\n",
        "print(c)"
      ],
      "execution_count": 9,
      "outputs": [
        {
          "output_type": "stream",
          "name": "stdout",
          "text": [
            "[3.84514148e+00 9.98777732e-02 3.47493640e-03]\n"
          ]
        }
      ]
    },
    {
      "cell_type": "markdown",
      "metadata": {
        "id": "HdOsv1c7-rK9"
      },
      "source": [
        "##### **Step 3: Plot the points and the polynomial**\n",
        "⚡ Plot the given points given in condition\n",
        "\n",
        "⚡ Plot the polynomial"
      ]
    },
    {
      "cell_type": "code",
      "metadata": {
        "colab": {
          "base_uri": "https://localhost:8080/",
          "height": 265
        },
        "id": "8hmQBK4b-zd8",
        "outputId": "54bca455-4d0a-4753-8409-904f18119487"
      },
      "source": [
        "plt.scatter(t, y)\n",
        "\n",
        "p = c[0] + c[1]*t + c[2]*t**2\n",
        "\n",
        "plt.plot(t, p, 'r')\n",
        "plt.show()"
      ],
      "execution_count": 10,
      "outputs": [
        {
          "output_type": "display_data",
          "data": {
            "image/png": "[encoded data removed]",
            "text/plain": [
              "<Figure size 432x288 with 1 Axes>"
            ]
          },
          "metadata": {
            "needs_background": "light"
          }
        }
      ]
    }
  ]
}